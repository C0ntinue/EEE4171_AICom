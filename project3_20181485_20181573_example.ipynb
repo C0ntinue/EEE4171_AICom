{
  "nbformat": 4,
  "nbformat_minor": 0,
  "metadata": {
    "colab": {
      "name": "project3_20181485_20181573_example.ipynb",
      "provenance": [],
      "collapsed_sections": [],
      "toc_visible": true,
      "include_colab_link": true
    },
    "kernelspec": {
      "name": "python3",
      "display_name": "Python 3"
    },
    "language_info": {
      "name": "python"
    }
  },
  "cells": [
    {
      "cell_type": "markdown",
      "metadata": {
        "id": "view-in-github",
        "colab_type": "text"
      },
      "source": [
        "<a href=\"https://colab.research.google.com/github/C0ntinue/EEE4171_AICom/blob/main/project3_20181485_20181573_example.ipynb\" target=\"_parent\"><img src=\"https://colab.research.google.com/assets/colab-badge.svg\" alt=\"Open In Colab\"/></a>"
      ]
    },
    {
      "cell_type": "markdown",
      "metadata": {
        "id": "V-kJn7sq6j5p"
      },
      "source": [
        "# Preparation"
      ]
    },
    {
      "cell_type": "code",
      "metadata": {
        "colab": {
          "base_uri": "https://localhost:8080/"
        },
        "id": "zUOqjAwx6iZj",
        "outputId": "2d0d3001-c849-4b7a-cd1b-4674e710c6a1"
      },
      "source": [
        "from google.colab import drive\n",
        "drive.mount('/content/gdrive')"
      ],
      "execution_count": 1,
      "outputs": [
        {
          "output_type": "stream",
          "text": [
            "Mounted at /content/gdrive\n"
          ],
          "name": "stdout"
        }
      ]
    },
    {
      "cell_type": "code",
      "metadata": {
        "id": "0L_udelCAV0n"
      },
      "source": [
        "#pj_root= '/content/gdrive/MyDrive/서강대 학습자료/2021년도 1학기 학습자료/인공지능통신-김홍석 교수님/프로젝트3/'\n",
        "pj_root = '/content/gdrive/MyDrive/Data/서강전자7학기/인공지능통신/pj3/data/'"
      ],
      "execution_count": 2,
      "outputs": []
    },
    {
      "cell_type": "code",
      "metadata": {
        "id": "7d7nN9HQAb8a"
      },
      "source": [
        "# import dependency\n",
        "import os\n",
        "import numpy as np\n",
        "import matplotlib as plt\n",
        "import pandas as pd"
      ],
      "execution_count": 3,
      "outputs": []
    },
    {
      "cell_type": "code",
      "metadata": {
        "id": "LVm0sQTPA4kv"
      },
      "source": [
        "# upload data (train_csv, test_csv, test_label_csv)\n",
        "# 1st col : data number\n",
        "# 2nd col : userId\n",
        "# 3rd col : movieId\n",
        "# 4th col : rating\n",
        "\n",
        "# train_csv = pd.read_csv(pj_root+\"movie_train.csv\", index_col = 0)\n",
        "# test_csv = pd.read_csv(pj_root+\"movie_test.csv\", index_col = 0)\n",
        "# test_label_csv = pd.read_csv(pj_root+\"movie_test_label.csv\", index_col = 0)\n",
        "\n",
        "train_csv = pd.read_csv(pj_root+\"example_train.csv\", index_col = 0)\n",
        "test_csv = pd.read_csv(pj_root+\"example_test.csv\", index_col = 0)\n",
        "test_label_csv = pd.read_csv(pj_root+\"example_test_label.csv\", index_col = 0)"
      ],
      "execution_count": 4,
      "outputs": []
    },
    {
      "cell_type": "code",
      "metadata": {
        "colab": {
          "base_uri": "https://localhost:8080/",
          "height": 968
        },
        "id": "em6-avtLBs1y",
        "outputId": "2f729ed3-e27b-4def-f476-1b4223df4161"
      },
      "source": [
        "train_csv"
      ],
      "execution_count": 5,
      "outputs": [
        {
          "output_type": "execute_result",
          "data": {
            "text/html": [
              "<div>\n",
              "<style scoped>\n",
              "    .dataframe tbody tr th:only-of-type {\n",
              "        vertical-align: middle;\n",
              "    }\n",
              "\n",
              "    .dataframe tbody tr th {\n",
              "        vertical-align: top;\n",
              "    }\n",
              "\n",
              "    .dataframe thead th {\n",
              "        text-align: right;\n",
              "    }\n",
              "</style>\n",
              "<table border=\"1\" class=\"dataframe\">\n",
              "  <thead>\n",
              "    <tr style=\"text-align: right;\">\n",
              "      <th></th>\n",
              "      <th>userId</th>\n",
              "      <th>movieId</th>\n",
              "      <th>rating</th>\n",
              "    </tr>\n",
              "  </thead>\n",
              "  <tbody>\n",
              "    <tr>\n",
              "      <th>1</th>\n",
              "      <td>1</td>\n",
              "      <td>1</td>\n",
              "      <td>5</td>\n",
              "    </tr>\n",
              "    <tr>\n",
              "      <th>2</th>\n",
              "      <td>1</td>\n",
              "      <td>2</td>\n",
              "      <td>4</td>\n",
              "    </tr>\n",
              "    <tr>\n",
              "      <th>3</th>\n",
              "      <td>1</td>\n",
              "      <td>3</td>\n",
              "      <td>4</td>\n",
              "    </tr>\n",
              "    <tr>\n",
              "      <th>4</th>\n",
              "      <td>2</td>\n",
              "      <td>2</td>\n",
              "      <td>3</td>\n",
              "    </tr>\n",
              "    <tr>\n",
              "      <th>5</th>\n",
              "      <td>2</td>\n",
              "      <td>3</td>\n",
              "      <td>5</td>\n",
              "    </tr>\n",
              "    <tr>\n",
              "      <th>6</th>\n",
              "      <td>2</td>\n",
              "      <td>5</td>\n",
              "      <td>4</td>\n",
              "    </tr>\n",
              "    <tr>\n",
              "      <th>7</th>\n",
              "      <td>3</td>\n",
              "      <td>1</td>\n",
              "      <td>5</td>\n",
              "    </tr>\n",
              "    <tr>\n",
              "      <th>8</th>\n",
              "      <td>3</td>\n",
              "      <td>2</td>\n",
              "      <td>2</td>\n",
              "    </tr>\n",
              "    <tr>\n",
              "      <th>9</th>\n",
              "      <td>3</td>\n",
              "      <td>5</td>\n",
              "      <td>3</td>\n",
              "    </tr>\n",
              "    <tr>\n",
              "      <th>10</th>\n",
              "      <td>4</td>\n",
              "      <td>3</td>\n",
              "      <td>3</td>\n",
              "    </tr>\n",
              "    <tr>\n",
              "      <th>11</th>\n",
              "      <td>4</td>\n",
              "      <td>4</td>\n",
              "      <td>1</td>\n",
              "    </tr>\n",
              "    <tr>\n",
              "      <th>12</th>\n",
              "      <td>4</td>\n",
              "      <td>5</td>\n",
              "      <td>2</td>\n",
              "    </tr>\n",
              "    <tr>\n",
              "      <th>13</th>\n",
              "      <td>5</td>\n",
              "      <td>1</td>\n",
              "      <td>4</td>\n",
              "    </tr>\n",
              "    <tr>\n",
              "      <th>14</th>\n",
              "      <td>5</td>\n",
              "      <td>4</td>\n",
              "      <td>4</td>\n",
              "    </tr>\n",
              "    <tr>\n",
              "      <th>15</th>\n",
              "      <td>5</td>\n",
              "      <td>5</td>\n",
              "      <td>5</td>\n",
              "    </tr>\n",
              "    <tr>\n",
              "      <th>16</th>\n",
              "      <td>6</td>\n",
              "      <td>2</td>\n",
              "      <td>3</td>\n",
              "    </tr>\n",
              "    <tr>\n",
              "      <th>17</th>\n",
              "      <td>6</td>\n",
              "      <td>4</td>\n",
              "      <td>3</td>\n",
              "    </tr>\n",
              "    <tr>\n",
              "      <th>18</th>\n",
              "      <td>6</td>\n",
              "      <td>5</td>\n",
              "      <td>5</td>\n",
              "    </tr>\n",
              "    <tr>\n",
              "      <th>19</th>\n",
              "      <td>7</td>\n",
              "      <td>1</td>\n",
              "      <td>3</td>\n",
              "    </tr>\n",
              "    <tr>\n",
              "      <th>20</th>\n",
              "      <td>7</td>\n",
              "      <td>3</td>\n",
              "      <td>3</td>\n",
              "    </tr>\n",
              "    <tr>\n",
              "      <th>21</th>\n",
              "      <td>7</td>\n",
              "      <td>4</td>\n",
              "      <td>2</td>\n",
              "    </tr>\n",
              "    <tr>\n",
              "      <th>22</th>\n",
              "      <td>8</td>\n",
              "      <td>1</td>\n",
              "      <td>5</td>\n",
              "    </tr>\n",
              "    <tr>\n",
              "      <th>23</th>\n",
              "      <td>8</td>\n",
              "      <td>3</td>\n",
              "      <td>4</td>\n",
              "    </tr>\n",
              "    <tr>\n",
              "      <th>24</th>\n",
              "      <td>8</td>\n",
              "      <td>5</td>\n",
              "      <td>5</td>\n",
              "    </tr>\n",
              "    <tr>\n",
              "      <th>25</th>\n",
              "      <td>9</td>\n",
              "      <td>2</td>\n",
              "      <td>2</td>\n",
              "    </tr>\n",
              "    <tr>\n",
              "      <th>26</th>\n",
              "      <td>9</td>\n",
              "      <td>3</td>\n",
              "      <td>5</td>\n",
              "    </tr>\n",
              "    <tr>\n",
              "      <th>27</th>\n",
              "      <td>9</td>\n",
              "      <td>4</td>\n",
              "      <td>4</td>\n",
              "    </tr>\n",
              "    <tr>\n",
              "      <th>28</th>\n",
              "      <td>10</td>\n",
              "      <td>3</td>\n",
              "      <td>5</td>\n",
              "    </tr>\n",
              "    <tr>\n",
              "      <th>29</th>\n",
              "      <td>10</td>\n",
              "      <td>4</td>\n",
              "      <td>3</td>\n",
              "    </tr>\n",
              "    <tr>\n",
              "      <th>30</th>\n",
              "      <td>10</td>\n",
              "      <td>5</td>\n",
              "      <td>4</td>\n",
              "    </tr>\n",
              "  </tbody>\n",
              "</table>\n",
              "</div>"
            ],
            "text/plain": [
              "    userId  movieId  rating\n",
              "1        1        1       5\n",
              "2        1        2       4\n",
              "3        1        3       4\n",
              "4        2        2       3\n",
              "5        2        3       5\n",
              "6        2        5       4\n",
              "7        3        1       5\n",
              "8        3        2       2\n",
              "9        3        5       3\n",
              "10       4        3       3\n",
              "11       4        4       1\n",
              "12       4        5       2\n",
              "13       5        1       4\n",
              "14       5        4       4\n",
              "15       5        5       5\n",
              "16       6        2       3\n",
              "17       6        4       3\n",
              "18       6        5       5\n",
              "19       7        1       3\n",
              "20       7        3       3\n",
              "21       7        4       2\n",
              "22       8        1       5\n",
              "23       8        3       4\n",
              "24       8        5       5\n",
              "25       9        2       2\n",
              "26       9        3       5\n",
              "27       9        4       4\n",
              "28      10        3       5\n",
              "29      10        4       3\n",
              "30      10        5       4"
            ]
          },
          "metadata": {
            "tags": []
          },
          "execution_count": 5
        }
      ]
    },
    {
      "cell_type": "code",
      "metadata": {
        "colab": {
          "base_uri": "https://localhost:8080/",
          "height": 385
        },
        "id": "AFKvrqPK5w5O",
        "outputId": "efed0fff-a7f7-4c17-cca8-72cd21fa9a9e"
      },
      "source": [
        "train_rating = train_csv.pivot_table('rating', index = 'userId', columns = 'movieId').fillna('')\n",
        "train_rating"
      ],
      "execution_count": 6,
      "outputs": [
        {
          "output_type": "execute_result",
          "data": {
            "text/html": [
              "<div>\n",
              "<style scoped>\n",
              "    .dataframe tbody tr th:only-of-type {\n",
              "        vertical-align: middle;\n",
              "    }\n",
              "\n",
              "    .dataframe tbody tr th {\n",
              "        vertical-align: top;\n",
              "    }\n",
              "\n",
              "    .dataframe thead th {\n",
              "        text-align: right;\n",
              "    }\n",
              "</style>\n",
              "<table border=\"1\" class=\"dataframe\">\n",
              "  <thead>\n",
              "    <tr style=\"text-align: right;\">\n",
              "      <th>movieId</th>\n",
              "      <th>1</th>\n",
              "      <th>2</th>\n",
              "      <th>3</th>\n",
              "      <th>4</th>\n",
              "      <th>5</th>\n",
              "    </tr>\n",
              "    <tr>\n",
              "      <th>userId</th>\n",
              "      <th></th>\n",
              "      <th></th>\n",
              "      <th></th>\n",
              "      <th></th>\n",
              "      <th></th>\n",
              "    </tr>\n",
              "  </thead>\n",
              "  <tbody>\n",
              "    <tr>\n",
              "      <th>1</th>\n",
              "      <td>5</td>\n",
              "      <td>4</td>\n",
              "      <td>4</td>\n",
              "      <td></td>\n",
              "      <td></td>\n",
              "    </tr>\n",
              "    <tr>\n",
              "      <th>2</th>\n",
              "      <td></td>\n",
              "      <td>3</td>\n",
              "      <td>5</td>\n",
              "      <td></td>\n",
              "      <td>4</td>\n",
              "    </tr>\n",
              "    <tr>\n",
              "      <th>3</th>\n",
              "      <td>5</td>\n",
              "      <td>2</td>\n",
              "      <td></td>\n",
              "      <td></td>\n",
              "      <td>3</td>\n",
              "    </tr>\n",
              "    <tr>\n",
              "      <th>4</th>\n",
              "      <td></td>\n",
              "      <td></td>\n",
              "      <td>3</td>\n",
              "      <td>1</td>\n",
              "      <td>2</td>\n",
              "    </tr>\n",
              "    <tr>\n",
              "      <th>5</th>\n",
              "      <td>4</td>\n",
              "      <td></td>\n",
              "      <td></td>\n",
              "      <td>4</td>\n",
              "      <td>5</td>\n",
              "    </tr>\n",
              "    <tr>\n",
              "      <th>6</th>\n",
              "      <td></td>\n",
              "      <td>3</td>\n",
              "      <td></td>\n",
              "      <td>3</td>\n",
              "      <td>5</td>\n",
              "    </tr>\n",
              "    <tr>\n",
              "      <th>7</th>\n",
              "      <td>3</td>\n",
              "      <td></td>\n",
              "      <td>3</td>\n",
              "      <td>2</td>\n",
              "      <td></td>\n",
              "    </tr>\n",
              "    <tr>\n",
              "      <th>8</th>\n",
              "      <td>5</td>\n",
              "      <td></td>\n",
              "      <td>4</td>\n",
              "      <td></td>\n",
              "      <td>5</td>\n",
              "    </tr>\n",
              "    <tr>\n",
              "      <th>9</th>\n",
              "      <td></td>\n",
              "      <td>2</td>\n",
              "      <td>5</td>\n",
              "      <td>4</td>\n",
              "      <td></td>\n",
              "    </tr>\n",
              "    <tr>\n",
              "      <th>10</th>\n",
              "      <td></td>\n",
              "      <td></td>\n",
              "      <td>5</td>\n",
              "      <td>3</td>\n",
              "      <td>4</td>\n",
              "    </tr>\n",
              "  </tbody>\n",
              "</table>\n",
              "</div>"
            ],
            "text/plain": [
              "movieId  1  2  3  4  5\n",
              "userId                \n",
              "1        5  4  4      \n",
              "2           3  5     4\n",
              "3        5  2        3\n",
              "4              3  1  2\n",
              "5        4        4  5\n",
              "6           3     3  5\n",
              "7        3     3  2   \n",
              "8        5     4     5\n",
              "9           2  5  4   \n",
              "10             5  3  4"
            ]
          },
          "metadata": {
            "tags": []
          },
          "execution_count": 6
        }
      ]
    },
    {
      "cell_type": "code",
      "metadata": {
        "colab": {
          "base_uri": "https://localhost:8080/",
          "height": 355
        },
        "id": "wefVvJ6CBs-G",
        "outputId": "be19d0de-46c5-4806-bb30-c5356bf0b2be"
      },
      "source": [
        "test_csv"
      ],
      "execution_count": 7,
      "outputs": [
        {
          "output_type": "execute_result",
          "data": {
            "text/html": [
              "<div>\n",
              "<style scoped>\n",
              "    .dataframe tbody tr th:only-of-type {\n",
              "        vertical-align: middle;\n",
              "    }\n",
              "\n",
              "    .dataframe tbody tr th {\n",
              "        vertical-align: top;\n",
              "    }\n",
              "\n",
              "    .dataframe thead th {\n",
              "        text-align: right;\n",
              "    }\n",
              "</style>\n",
              "<table border=\"1\" class=\"dataframe\">\n",
              "  <thead>\n",
              "    <tr style=\"text-align: right;\">\n",
              "      <th></th>\n",
              "      <th>userId</th>\n",
              "      <th>movieId</th>\n",
              "      <th>rating</th>\n",
              "    </tr>\n",
              "  </thead>\n",
              "  <tbody>\n",
              "    <tr>\n",
              "      <th>1</th>\n",
              "      <td>1</td>\n",
              "      <td>5</td>\n",
              "      <td>0</td>\n",
              "    </tr>\n",
              "    <tr>\n",
              "      <th>2</th>\n",
              "      <td>2</td>\n",
              "      <td>4</td>\n",
              "      <td>0</td>\n",
              "    </tr>\n",
              "    <tr>\n",
              "      <th>3</th>\n",
              "      <td>3</td>\n",
              "      <td>4</td>\n",
              "      <td>0</td>\n",
              "    </tr>\n",
              "    <tr>\n",
              "      <th>4</th>\n",
              "      <td>4</td>\n",
              "      <td>2</td>\n",
              "      <td>0</td>\n",
              "    </tr>\n",
              "    <tr>\n",
              "      <th>5</th>\n",
              "      <td>5</td>\n",
              "      <td>3</td>\n",
              "      <td>0</td>\n",
              "    </tr>\n",
              "    <tr>\n",
              "      <th>6</th>\n",
              "      <td>6</td>\n",
              "      <td>1</td>\n",
              "      <td>0</td>\n",
              "    </tr>\n",
              "    <tr>\n",
              "      <th>7</th>\n",
              "      <td>7</td>\n",
              "      <td>2</td>\n",
              "      <td>0</td>\n",
              "    </tr>\n",
              "    <tr>\n",
              "      <th>8</th>\n",
              "      <td>8</td>\n",
              "      <td>2</td>\n",
              "      <td>0</td>\n",
              "    </tr>\n",
              "    <tr>\n",
              "      <th>9</th>\n",
              "      <td>9</td>\n",
              "      <td>1</td>\n",
              "      <td>0</td>\n",
              "    </tr>\n",
              "    <tr>\n",
              "      <th>10</th>\n",
              "      <td>10</td>\n",
              "      <td>1</td>\n",
              "      <td>0</td>\n",
              "    </tr>\n",
              "  </tbody>\n",
              "</table>\n",
              "</div>"
            ],
            "text/plain": [
              "    userId  movieId  rating\n",
              "1        1        5       0\n",
              "2        2        4       0\n",
              "3        3        4       0\n",
              "4        4        2       0\n",
              "5        5        3       0\n",
              "6        6        1       0\n",
              "7        7        2       0\n",
              "8        8        2       0\n",
              "9        9        1       0\n",
              "10      10        1       0"
            ]
          },
          "metadata": {
            "tags": []
          },
          "execution_count": 7
        }
      ]
    },
    {
      "cell_type": "code",
      "metadata": {
        "colab": {
          "base_uri": "https://localhost:8080/",
          "height": 385
        },
        "id": "hkzT003J6rTU",
        "outputId": "2b7cf7b4-78da-4872-dc50-06da51bc8e20"
      },
      "source": [
        "test_rating = test_csv.pivot_table('rating', index = 'userId', columns = 'movieId').fillna('')\n",
        "test_rating"
      ],
      "execution_count": 8,
      "outputs": [
        {
          "output_type": "execute_result",
          "data": {
            "text/html": [
              "<div>\n",
              "<style scoped>\n",
              "    .dataframe tbody tr th:only-of-type {\n",
              "        vertical-align: middle;\n",
              "    }\n",
              "\n",
              "    .dataframe tbody tr th {\n",
              "        vertical-align: top;\n",
              "    }\n",
              "\n",
              "    .dataframe thead th {\n",
              "        text-align: right;\n",
              "    }\n",
              "</style>\n",
              "<table border=\"1\" class=\"dataframe\">\n",
              "  <thead>\n",
              "    <tr style=\"text-align: right;\">\n",
              "      <th>movieId</th>\n",
              "      <th>1</th>\n",
              "      <th>2</th>\n",
              "      <th>3</th>\n",
              "      <th>4</th>\n",
              "      <th>5</th>\n",
              "    </tr>\n",
              "    <tr>\n",
              "      <th>userId</th>\n",
              "      <th></th>\n",
              "      <th></th>\n",
              "      <th></th>\n",
              "      <th></th>\n",
              "      <th></th>\n",
              "    </tr>\n",
              "  </thead>\n",
              "  <tbody>\n",
              "    <tr>\n",
              "      <th>1</th>\n",
              "      <td></td>\n",
              "      <td></td>\n",
              "      <td></td>\n",
              "      <td></td>\n",
              "      <td>0</td>\n",
              "    </tr>\n",
              "    <tr>\n",
              "      <th>2</th>\n",
              "      <td></td>\n",
              "      <td></td>\n",
              "      <td></td>\n",
              "      <td>0</td>\n",
              "      <td></td>\n",
              "    </tr>\n",
              "    <tr>\n",
              "      <th>3</th>\n",
              "      <td></td>\n",
              "      <td></td>\n",
              "      <td></td>\n",
              "      <td>0</td>\n",
              "      <td></td>\n",
              "    </tr>\n",
              "    <tr>\n",
              "      <th>4</th>\n",
              "      <td></td>\n",
              "      <td>0</td>\n",
              "      <td></td>\n",
              "      <td></td>\n",
              "      <td></td>\n",
              "    </tr>\n",
              "    <tr>\n",
              "      <th>5</th>\n",
              "      <td></td>\n",
              "      <td></td>\n",
              "      <td>0</td>\n",
              "      <td></td>\n",
              "      <td></td>\n",
              "    </tr>\n",
              "    <tr>\n",
              "      <th>6</th>\n",
              "      <td>0</td>\n",
              "      <td></td>\n",
              "      <td></td>\n",
              "      <td></td>\n",
              "      <td></td>\n",
              "    </tr>\n",
              "    <tr>\n",
              "      <th>7</th>\n",
              "      <td></td>\n",
              "      <td>0</td>\n",
              "      <td></td>\n",
              "      <td></td>\n",
              "      <td></td>\n",
              "    </tr>\n",
              "    <tr>\n",
              "      <th>8</th>\n",
              "      <td></td>\n",
              "      <td>0</td>\n",
              "      <td></td>\n",
              "      <td></td>\n",
              "      <td></td>\n",
              "    </tr>\n",
              "    <tr>\n",
              "      <th>9</th>\n",
              "      <td>0</td>\n",
              "      <td></td>\n",
              "      <td></td>\n",
              "      <td></td>\n",
              "      <td></td>\n",
              "    </tr>\n",
              "    <tr>\n",
              "      <th>10</th>\n",
              "      <td>0</td>\n",
              "      <td></td>\n",
              "      <td></td>\n",
              "      <td></td>\n",
              "      <td></td>\n",
              "    </tr>\n",
              "  </tbody>\n",
              "</table>\n",
              "</div>"
            ],
            "text/plain": [
              "movieId  1  2  3  4  5\n",
              "userId                \n",
              "1                    0\n",
              "2                 0   \n",
              "3                 0   \n",
              "4           0         \n",
              "5              0      \n",
              "6        0            \n",
              "7           0         \n",
              "8           0         \n",
              "9        0            \n",
              "10       0            "
            ]
          },
          "metadata": {
            "tags": []
          },
          "execution_count": 8
        }
      ]
    },
    {
      "cell_type": "code",
      "metadata": {
        "colab": {
          "base_uri": "https://localhost:8080/",
          "height": 355
        },
        "id": "ZfjzN8rABtFN",
        "outputId": "ca6c609a-ba9e-4dd8-abf5-3c90017140ef"
      },
      "source": [
        "test_label_csv"
      ],
      "execution_count": 9,
      "outputs": [
        {
          "output_type": "execute_result",
          "data": {
            "text/html": [
              "<div>\n",
              "<style scoped>\n",
              "    .dataframe tbody tr th:only-of-type {\n",
              "        vertical-align: middle;\n",
              "    }\n",
              "\n",
              "    .dataframe tbody tr th {\n",
              "        vertical-align: top;\n",
              "    }\n",
              "\n",
              "    .dataframe thead th {\n",
              "        text-align: right;\n",
              "    }\n",
              "</style>\n",
              "<table border=\"1\" class=\"dataframe\">\n",
              "  <thead>\n",
              "    <tr style=\"text-align: right;\">\n",
              "      <th></th>\n",
              "      <th>userId</th>\n",
              "      <th>movieId</th>\n",
              "      <th>rating</th>\n",
              "    </tr>\n",
              "  </thead>\n",
              "  <tbody>\n",
              "    <tr>\n",
              "      <th>1</th>\n",
              "      <td>1</td>\n",
              "      <td>5</td>\n",
              "      <td>5</td>\n",
              "    </tr>\n",
              "    <tr>\n",
              "      <th>2</th>\n",
              "      <td>2</td>\n",
              "      <td>4</td>\n",
              "      <td>3</td>\n",
              "    </tr>\n",
              "    <tr>\n",
              "      <th>3</th>\n",
              "      <td>3</td>\n",
              "      <td>4</td>\n",
              "      <td>2</td>\n",
              "    </tr>\n",
              "    <tr>\n",
              "      <th>4</th>\n",
              "      <td>4</td>\n",
              "      <td>2</td>\n",
              "      <td>2</td>\n",
              "    </tr>\n",
              "    <tr>\n",
              "      <th>5</th>\n",
              "      <td>5</td>\n",
              "      <td>3</td>\n",
              "      <td>5</td>\n",
              "    </tr>\n",
              "    <tr>\n",
              "      <th>6</th>\n",
              "      <td>6</td>\n",
              "      <td>1</td>\n",
              "      <td>5</td>\n",
              "    </tr>\n",
              "    <tr>\n",
              "      <th>7</th>\n",
              "      <td>7</td>\n",
              "      <td>2</td>\n",
              "      <td>2</td>\n",
              "    </tr>\n",
              "    <tr>\n",
              "      <th>8</th>\n",
              "      <td>8</td>\n",
              "      <td>2</td>\n",
              "      <td>3</td>\n",
              "    </tr>\n",
              "    <tr>\n",
              "      <th>9</th>\n",
              "      <td>9</td>\n",
              "      <td>1</td>\n",
              "      <td>4</td>\n",
              "    </tr>\n",
              "    <tr>\n",
              "      <th>10</th>\n",
              "      <td>10</td>\n",
              "      <td>1</td>\n",
              "      <td>5</td>\n",
              "    </tr>\n",
              "  </tbody>\n",
              "</table>\n",
              "</div>"
            ],
            "text/plain": [
              "    userId  movieId  rating\n",
              "1        1        5       5\n",
              "2        2        4       3\n",
              "3        3        4       2\n",
              "4        4        2       2\n",
              "5        5        3       5\n",
              "6        6        1       5\n",
              "7        7        2       2\n",
              "8        8        2       3\n",
              "9        9        1       4\n",
              "10      10        1       5"
            ]
          },
          "metadata": {
            "tags": []
          },
          "execution_count": 9
        }
      ]
    },
    {
      "cell_type": "code",
      "metadata": {
        "colab": {
          "base_uri": "https://localhost:8080/",
          "height": 385
        },
        "id": "3KNbPVmm6yhM",
        "outputId": "cdcfdf00-7bef-4ef7-9512-d9bcaae02ff0"
      },
      "source": [
        "test_label_rating = test_label_csv.pivot_table('rating', index = 'userId', columns = 'movieId').fillna('')\n",
        "test_label_rating"
      ],
      "execution_count": 10,
      "outputs": [
        {
          "output_type": "execute_result",
          "data": {
            "text/html": [
              "<div>\n",
              "<style scoped>\n",
              "    .dataframe tbody tr th:only-of-type {\n",
              "        vertical-align: middle;\n",
              "    }\n",
              "\n",
              "    .dataframe tbody tr th {\n",
              "        vertical-align: top;\n",
              "    }\n",
              "\n",
              "    .dataframe thead th {\n",
              "        text-align: right;\n",
              "    }\n",
              "</style>\n",
              "<table border=\"1\" class=\"dataframe\">\n",
              "  <thead>\n",
              "    <tr style=\"text-align: right;\">\n",
              "      <th>movieId</th>\n",
              "      <th>1</th>\n",
              "      <th>2</th>\n",
              "      <th>3</th>\n",
              "      <th>4</th>\n",
              "      <th>5</th>\n",
              "    </tr>\n",
              "    <tr>\n",
              "      <th>userId</th>\n",
              "      <th></th>\n",
              "      <th></th>\n",
              "      <th></th>\n",
              "      <th></th>\n",
              "      <th></th>\n",
              "    </tr>\n",
              "  </thead>\n",
              "  <tbody>\n",
              "    <tr>\n",
              "      <th>1</th>\n",
              "      <td></td>\n",
              "      <td></td>\n",
              "      <td></td>\n",
              "      <td></td>\n",
              "      <td>5</td>\n",
              "    </tr>\n",
              "    <tr>\n",
              "      <th>2</th>\n",
              "      <td></td>\n",
              "      <td></td>\n",
              "      <td></td>\n",
              "      <td>3</td>\n",
              "      <td></td>\n",
              "    </tr>\n",
              "    <tr>\n",
              "      <th>3</th>\n",
              "      <td></td>\n",
              "      <td></td>\n",
              "      <td></td>\n",
              "      <td>2</td>\n",
              "      <td></td>\n",
              "    </tr>\n",
              "    <tr>\n",
              "      <th>4</th>\n",
              "      <td></td>\n",
              "      <td>2</td>\n",
              "      <td></td>\n",
              "      <td></td>\n",
              "      <td></td>\n",
              "    </tr>\n",
              "    <tr>\n",
              "      <th>5</th>\n",
              "      <td></td>\n",
              "      <td></td>\n",
              "      <td>5</td>\n",
              "      <td></td>\n",
              "      <td></td>\n",
              "    </tr>\n",
              "    <tr>\n",
              "      <th>6</th>\n",
              "      <td>5</td>\n",
              "      <td></td>\n",
              "      <td></td>\n",
              "      <td></td>\n",
              "      <td></td>\n",
              "    </tr>\n",
              "    <tr>\n",
              "      <th>7</th>\n",
              "      <td></td>\n",
              "      <td>2</td>\n",
              "      <td></td>\n",
              "      <td></td>\n",
              "      <td></td>\n",
              "    </tr>\n",
              "    <tr>\n",
              "      <th>8</th>\n",
              "      <td></td>\n",
              "      <td>3</td>\n",
              "      <td></td>\n",
              "      <td></td>\n",
              "      <td></td>\n",
              "    </tr>\n",
              "    <tr>\n",
              "      <th>9</th>\n",
              "      <td>4</td>\n",
              "      <td></td>\n",
              "      <td></td>\n",
              "      <td></td>\n",
              "      <td></td>\n",
              "    </tr>\n",
              "    <tr>\n",
              "      <th>10</th>\n",
              "      <td>5</td>\n",
              "      <td></td>\n",
              "      <td></td>\n",
              "      <td></td>\n",
              "      <td></td>\n",
              "    </tr>\n",
              "  </tbody>\n",
              "</table>\n",
              "</div>"
            ],
            "text/plain": [
              "movieId  1  2  3  4  5\n",
              "userId                \n",
              "1                    5\n",
              "2                 3   \n",
              "3                 2   \n",
              "4           2         \n",
              "5              5      \n",
              "6        5            \n",
              "7           2         \n",
              "8           3         \n",
              "9        4            \n",
              "10       5            "
            ]
          },
          "metadata": {
            "tags": []
          },
          "execution_count": 10
        }
      ]
    },
    {
      "cell_type": "markdown",
      "metadata": {
        "id": "952WROSL659i"
      },
      "source": [
        "# Train"
      ]
    },
    {
      "cell_type": "markdown",
      "metadata": {
        "id": "LkLthwFDJw8g"
      },
      "source": [
        "## Train baseline predictor"
      ]
    },
    {
      "cell_type": "code",
      "metadata": {
        "id": "Tk8Dunn6sTka",
        "colab": {
          "base_uri": "https://localhost:8080/"
        },
        "outputId": "163cf4ab-0a8a-4d31-ac0b-9f0cbe871525"
      },
      "source": [
        "# r의 평균 구하기\n",
        "sum = 0.0\n",
        "count = 0\n",
        "for i in train_rating:\n",
        "  for val in train_rating[i]:\n",
        "    if val != '':\n",
        "      sum = sum + val\n",
        "      count = count + 1\n",
        "r_avg = sum/count\n",
        "r_avg"
      ],
      "execution_count": 15,
      "outputs": [
        {
          "output_type": "execute_result",
          "data": {
            "text/plain": [
              "3.6666666666666665"
            ]
          },
          "metadata": {
            "tags": []
          },
          "execution_count": 15
        }
      ]
    },
    {
      "cell_type": "code",
      "metadata": {
        "colab": {
          "base_uri": "https://localhost:8080/"
        },
        "id": "PqIWehm2i7KH",
        "outputId": "70e175c9-c747-49b9-9527-979e3fe977fe"
      },
      "source": [
        "train_rating_values=train_rating.values\n",
        "train_rating_values"
      ],
      "execution_count": 16,
      "outputs": [
        {
          "output_type": "execute_result",
          "data": {
            "text/plain": [
              "array([[5.0, 4.0, 4.0, '', ''],\n",
              "       ['', 3.0, 5.0, '', 4.0],\n",
              "       [5.0, 2.0, '', '', 3.0],\n",
              "       ['', '', 3.0, 1.0, 2.0],\n",
              "       [4.0, '', '', 4.0, 5.0],\n",
              "       ['', 3.0, '', 3.0, 5.0],\n",
              "       [3.0, '', 3.0, 2.0, ''],\n",
              "       [5.0, '', 4.0, '', 5.0],\n",
              "       ['', 2.0, 5.0, 4.0, ''],\n",
              "       ['', '', 5.0, 3.0, 4.0]], dtype=object)"
            ]
          },
          "metadata": {
            "tags": []
          },
          "execution_count": 16
        }
      ]
    },
    {
      "cell_type": "code",
      "metadata": {
        "id": "z7lSsaNM67RT",
        "colab": {
          "base_uri": "https://localhost:8080/"
        },
        "outputId": "ca1b3dc3-f540-44b5-a4f1-98d0ed7b31bb"
      },
      "source": [
        "# A, c 구성\n",
        "num_users = len(train_rating.index)\n",
        "num_movies = len(train_rating.columns)\n",
        "\n",
        "A = np.zeros((count,num_users + num_movies))\n",
        "cT = np.zeros(count)\n",
        "data_idx = 0\n",
        "for user_id,ratings in enumerate(train_rating_values):\n",
        "  for movie_id,val in enumerate(ratings):\n",
        "    if val != '':\n",
        "      A[data_idx][user_id]=1\n",
        "      A[data_idx][num_users+movie_id]=1\n",
        "      cT[data_idx]=val-r_avg\n",
        "      data_idx = data_idx +1\n",
        "\n",
        "c=np.transpose(cT)\n",
        "print(\"\\n matrix A의 값:\")\n",
        "print(A)\n",
        "print(\"\\n vector c의 값:\")\n",
        "print(c)\n"
      ],
      "execution_count": 17,
      "outputs": [
        {
          "output_type": "stream",
          "text": [
            "\n",
            " matrix A의 값:\n",
            "[[1. 0. 0. 0. 0. 0. 0. 0. 0. 0. 1. 0. 0. 0. 0.]\n",
            " [1. 0. 0. 0. 0. 0. 0. 0. 0. 0. 0. 1. 0. 0. 0.]\n",
            " [1. 0. 0. 0. 0. 0. 0. 0. 0. 0. 0. 0. 1. 0. 0.]\n",
            " [0. 1. 0. 0. 0. 0. 0. 0. 0. 0. 0. 1. 0. 0. 0.]\n",
            " [0. 1. 0. 0. 0. 0. 0. 0. 0. 0. 0. 0. 1. 0. 0.]\n",
            " [0. 1. 0. 0. 0. 0. 0. 0. 0. 0. 0. 0. 0. 0. 1.]\n",
            " [0. 0. 1. 0. 0. 0. 0. 0. 0. 0. 1. 0. 0. 0. 0.]\n",
            " [0. 0. 1. 0. 0. 0. 0. 0. 0. 0. 0. 1. 0. 0. 0.]\n",
            " [0. 0. 1. 0. 0. 0. 0. 0. 0. 0. 0. 0. 0. 0. 1.]\n",
            " [0. 0. 0. 1. 0. 0. 0. 0. 0. 0. 0. 0. 1. 0. 0.]\n",
            " [0. 0. 0. 1. 0. 0. 0. 0. 0. 0. 0. 0. 0. 1. 0.]\n",
            " [0. 0. 0. 1. 0. 0. 0. 0. 0. 0. 0. 0. 0. 0. 1.]\n",
            " [0. 0. 0. 0. 1. 0. 0. 0. 0. 0. 1. 0. 0. 0. 0.]\n",
            " [0. 0. 0. 0. 1. 0. 0. 0. 0. 0. 0. 0. 0. 1. 0.]\n",
            " [0. 0. 0. 0. 1. 0. 0. 0. 0. 0. 0. 0. 0. 0. 1.]\n",
            " [0. 0. 0. 0. 0. 1. 0. 0. 0. 0. 0. 1. 0. 0. 0.]\n",
            " [0. 0. 0. 0. 0. 1. 0. 0. 0. 0. 0. 0. 0. 1. 0.]\n",
            " [0. 0. 0. 0. 0. 1. 0. 0. 0. 0. 0. 0. 0. 0. 1.]\n",
            " [0. 0. 0. 0. 0. 0. 1. 0. 0. 0. 1. 0. 0. 0. 0.]\n",
            " [0. 0. 0. 0. 0. 0. 1. 0. 0. 0. 0. 0. 1. 0. 0.]\n",
            " [0. 0. 0. 0. 0. 0. 1. 0. 0. 0. 0. 0. 0. 1. 0.]\n",
            " [0. 0. 0. 0. 0. 0. 0. 1. 0. 0. 1. 0. 0. 0. 0.]\n",
            " [0. 0. 0. 0. 0. 0. 0. 1. 0. 0. 0. 0. 1. 0. 0.]\n",
            " [0. 0. 0. 0. 0. 0. 0. 1. 0. 0. 0. 0. 0. 0. 1.]\n",
            " [0. 0. 0. 0. 0. 0. 0. 0. 1. 0. 0. 1. 0. 0. 0.]\n",
            " [0. 0. 0. 0. 0. 0. 0. 0. 1. 0. 0. 0. 1. 0. 0.]\n",
            " [0. 0. 0. 0. 0. 0. 0. 0. 1. 0. 0. 0. 0. 1. 0.]\n",
            " [0. 0. 0. 0. 0. 0. 0. 0. 0. 1. 0. 0. 1. 0. 0.]\n",
            " [0. 0. 0. 0. 0. 0. 0. 0. 0. 1. 0. 0. 0. 1. 0.]\n",
            " [0. 0. 0. 0. 0. 0. 0. 0. 0. 1. 0. 0. 0. 0. 1.]]\n",
            "\n",
            " vector c의 값:\n",
            "[ 1.33333333  0.33333333  0.33333333 -0.66666667  1.33333333  0.33333333\n",
            "  1.33333333 -1.66666667 -0.66666667 -0.66666667 -2.66666667 -1.66666667\n",
            "  0.33333333  0.33333333  1.33333333 -0.66666667 -0.66666667  1.33333333\n",
            " -0.66666667 -0.66666667 -1.66666667  1.33333333  0.33333333  1.33333333\n",
            " -1.66666667  1.33333333  0.33333333  1.33333333 -0.66666667  0.33333333]\n"
          ],
          "name": "stdout"
        }
      ]
    },
    {
      "cell_type": "code",
      "metadata": {
        "id": "WLx0AL_csUTS",
        "colab": {
          "base_uri": "https://localhost:8080/"
        },
        "outputId": "f70ce4ea-506b-4804-95dc-80cb3c59c471"
      },
      "source": [
        "# pseudo inverse로 최적의 b 구하기\n",
        "bT = np.dot(np.linalg.pinv(A),c)\n",
        "b = np.transpose(bT)\n",
        "\n",
        "print(\"\\n vector b의 값:\")\n",
        "print(b)"
      ],
      "execution_count": 18,
      "outputs": [
        {
          "output_type": "stream",
          "text": [
            "\n",
            " vector b의 값:\n",
            "[ 0.62592593  0.42348485 -0.28148148 -1.77474747  0.5202862   0.49250842\n",
            " -1.23897306  0.45126263  0.39991582  0.22525253  0.71792929 -1.19873737\n",
            "  0.6030303  -0.6040404   0.32525253]\n"
          ],
          "name": "stdout"
        }
      ]
    },
    {
      "cell_type": "markdown",
      "metadata": {
        "id": "12l2M1g4J05D"
      },
      "source": [
        "## Obtain baseline prediction"
      ]
    },
    {
      "cell_type": "code",
      "metadata": {
        "colab": {
          "base_uri": "https://localhost:8080/"
        },
        "id": "mUfy0sl8JQPL",
        "outputId": "79bef99d-a6df-4c94-dd35-56f380745c7b"
      },
      "source": [
        "#baseline prediction\n",
        "test_rating_values = test_rating.values \n",
        "P1 = np.zeros(np.shape(test_rating_values))\n",
        "for user_id,ratings in enumerate(test_rating_values):\n",
        "  for movie_id,val in enumerate(ratings):\n",
        "    if val == 0:\n",
        "      P1[user_id][movie_id] = (r_avg+b[user_id]+b[num_users+movie_id])\n",
        "\n",
        "\n",
        "print(\"\\n baseline prediction matrix P1의 값:\")\n",
        "print(P1)"
      ],
      "execution_count": 19,
      "outputs": [
        {
          "output_type": "stream",
          "text": [
            "\n",
            " baseline prediction matrix P1의 값:\n",
            "[[0.         0.         0.         0.         4.61784512]\n",
            " [0.         0.         0.         3.48611111 0.        ]\n",
            " [0.         0.         0.         2.78114478 0.        ]\n",
            " [0.         0.69318182 0.         0.         0.        ]\n",
            " [0.         0.         4.78998316 0.         0.        ]\n",
            " [4.87710438 0.         0.         0.         0.        ]\n",
            " [0.         1.22895623 0.         0.         0.        ]\n",
            " [0.         2.91919192 0.         0.         0.        ]\n",
            " [4.78451178 0.         0.         0.         0.        ]\n",
            " [4.60984848 0.         0.         0.         0.        ]]\n"
          ],
          "name": "stdout"
        }
      ]
    },
    {
      "cell_type": "code",
      "metadata": {
        "id": "oABnnzxyti3B",
        "colab": {
          "base_uri": "https://localhost:8080/"
        },
        "outputId": "b08c3fe2-61fb-45c1-d0c4-358ebd4b0ef4"
      },
      "source": [
        "# error matrix 구성\n",
        "R_tilde = np.zeros(np.shape(train_rating_values))\n",
        "R_tilde_zeros = np.zeros(np.shape(train_rating_values))\n",
        "\n",
        "for user_id,ratings in enumerate(train_rating_values):\n",
        "  for movie_id,val in enumerate(ratings):\n",
        "    if val != '':\n",
        "      R_tilde[user_id][movie_id] = train_rating_values[user_id][movie_id]-(r_avg+b[user_id]+b[num_users+movie_id])\n",
        "      R_tilde_zeros[user_id][movie_id] = train_rating_values[user_id][movie_id]-(r_avg+b[user_id]+b[num_users+movie_id])\n",
        "    else:\n",
        "       R_tilde[user_id][movie_id] = None\n",
        "\n",
        "print(\"baseline prediction matrix R_tilde: \")\n",
        "print(np.round(R_tilde,2))\n",
        "print()\n",
        "print(R_tilde)"
      ],
      "execution_count": 20,
      "outputs": [
        {
          "output_type": "stream",
          "text": [
            "baseline prediction matrix R_tilde: \n",
            "[[-0.01  0.91 -0.9    nan   nan]\n",
            " [  nan  0.11  0.31   nan -0.42]\n",
            " [ 0.9  -0.19   nan   nan -0.71]\n",
            " [  nan   nan  0.51 -0.29 -0.22]\n",
            " [-0.9    nan   nan  0.42  0.49]\n",
            " [  nan  0.04   nan -0.56  0.52]\n",
            " [-0.15   nan -0.03  0.18   nan]\n",
            " [ 0.16   nan -0.72   nan  0.56]\n",
            " [  nan -0.87  0.33  0.54   nan]\n",
            " [  nan   nan  0.51 -0.29 -0.22]]\n",
            "\n",
            "[[-0.01052189  0.90614478 -0.8956229          nan         nan]\n",
            " [        nan  0.10858586  0.30681818         nan -0.41540404]\n",
            " [ 0.89688552 -0.18644781         nan         nan -0.71043771]\n",
            " [        nan         nan  0.50505051 -0.28787879 -0.21717172]\n",
            " [-0.90488215         nan         nan  0.41708754  0.48779461]\n",
            " [        nan  0.03956229         nan -0.55513468  0.51557239]\n",
            " [-0.1456229          nan -0.03072391  0.1763468          nan]\n",
            " [ 0.16414141         nan -0.7209596          nan  0.55681818]\n",
            " [        nan -0.86784512  0.33038721  0.53745791         nan]\n",
            " [        nan         nan  0.50505051 -0.28787879 -0.21717172]]\n"
          ],
          "name": "stdout"
        }
      ]
    },
    {
      "cell_type": "markdown",
      "metadata": {
        "id": "xzr9SZn8J4n6"
      },
      "source": [
        "## Compute similarity matrix"
      ]
    },
    {
      "cell_type": "code",
      "metadata": {
        "id": "xUsMv5T58p9U"
      },
      "source": [
        "# cosine coefficient 구하는 함수\n",
        "\n",
        "def cosine_similarity(v1,v2):\n",
        "    # \"compute cosine similarity of v1 to v2: (v1 dot v2)/{||v1||*||v2||)\"\n",
        "    sumxx, sumxy, sumyy = 0, 0, 0\n",
        "    np.nan_to_num(v1, copy=False)\n",
        "    np.nan_to_num(v2, copy=False)\n",
        "    valid_idx = np.logical_and(v1,v2)\n",
        "    for i in range(len(v1)):\n",
        "      if valid_idx[i] == True:\n",
        "        x =v1[i]; y = v2[i]\n",
        "        sumxx += x*x\n",
        "        sumyy += y*y\n",
        "        sumxy += x*y\n",
        "    return sumxy/np.sqrt(sumxx*sumyy)"
      ],
      "execution_count": 21,
      "outputs": []
    },
    {
      "cell_type": "code",
      "metadata": {
        "id": "82y2gk01J41r",
        "colab": {
          "base_uri": "https://localhost:8080/"
        },
        "outputId": "b86beb9a-a2a5-4c82-820f-8addea07a954"
      },
      "source": [
        "# similarity matrix 구성\n",
        "num_movies = len(train_rating.columns)\n",
        "sim_matrix = np.zeros((num_movies,num_movies))\n",
        "train_ratingsT = np.transpose(R_tilde)\n",
        "for i in range(num_movies):\n",
        "  for j in range(num_movies):\n",
        "    if i == j:\n",
        "      sim_matrix[i][j] = 0\n",
        "    else:\n",
        "      sim_matrix[i][j] = cosine_similarity(train_ratingsT[i],train_ratingsT[j])\n",
        "\n",
        "print()\n",
        "print('반올림한 similarity matrix의 값:')\n",
        "print(np.round(sim_matrix,2))\n",
        "\n",
        "print()\n",
        "print('similarity matrix의 실제 값:')\n",
        "print(sim_matrix)"
      ],
      "execution_count": 22,
      "outputs": [
        {
          "output_type": "stream",
          "text": [
            "\n",
            "반올림한 similarity matrix의 값:\n",
            "[[ 0.   -0.21 -0.41 -0.97 -0.75]\n",
            " [-0.21  0.   -0.84 -0.73  0.51]\n",
            " [-0.41 -0.84  0.   -0.22 -0.93]\n",
            " [-0.97 -0.73 -0.22  0.    0.07]\n",
            " [-0.75  0.51 -0.93  0.07  0.  ]]\n",
            "\n",
            "similarity matrix의 실제 값:\n",
            "[[ 0.         -0.21301359 -0.41335723 -0.97123137 -0.74899568]\n",
            " [-0.21301359  0.         -0.84334288 -0.72757202  0.505802  ]\n",
            " [-0.41335723 -0.84334288  0.         -0.21614403 -0.92916674]\n",
            " [-0.97123137 -0.72757202 -0.21614403  0.          0.06791977]\n",
            " [-0.74899568  0.505802   -0.92916674  0.06791977  0.        ]]\n"
          ],
          "name": "stdout"
        }
      ]
    },
    {
      "cell_type": "markdown",
      "metadata": {
        "id": "0XYkHLSrJ8QB"
      },
      "source": [
        "## Define neighborhood"
      ]
    },
    {
      "cell_type": "code",
      "metadata": {
        "id": "icOAdSfLJ8YS"
      },
      "source": [
        "# neighborhood 개수 정하기\n",
        "L = 2"
      ],
      "execution_count": 23,
      "outputs": []
    },
    {
      "cell_type": "markdown",
      "metadata": {
        "id": "qiZf0VmZJ_TC"
      },
      "source": [
        "## Obtain neghborhood prediction"
      ]
    },
    {
      "cell_type": "code",
      "metadata": {
        "id": "hPJFYn4TJ_eQ",
        "colab": {
          "base_uri": "https://localhost:8080/"
        },
        "outputId": "3ca100da-f510-496a-92eb-2b23b9290341"
      },
      "source": [
        "# neighborhood predictor matrix 구성\n",
        "test_rating_values = test_rating.values\n",
        "P2 = np.zeros(np.shape(P1))\n",
        "for user_id,ratings in enumerate(test_rating_values):\n",
        "  for movie_id,val in enumerate(ratings):\n",
        "    if val == 0:\n",
        "      abs_rev_sorted_sim_list = list(reversed(sorted(map(abs,sim_matrix[movie_id]))))\n",
        "      valid_sim = np.logical_and(train_rating_values[user_id],sim_matrix[movie_id])\n",
        "      for i,sim in enumerate(valid_sim):\n",
        "        if valid_sim[i] == '':\n",
        "          valid_sim[i] = 0 \n",
        "      q1 = 0\n",
        "      q2 = 0\n",
        "      for i in range(L):\n",
        "        movie_idx = list(abs(valid_sim)).index(abs_rev_sorted_sim_list[i]) if abs_rev_sorted_sim_list[i] in list(abs(valid_sim)) else None\n",
        "        if movie_idx is not None:\n",
        "          q2 += sim_matrix[movie_id][movie_idx]*R_tilde[user_id][movie_idx]\n",
        "          q1 += abs(sim_matrix[movie_id][movie_idx])\n",
        "      if q1 != 0 and q2 != 0:\n",
        "        P2[user_id][movie_id]+=  P1[user_id][movie_id]+q2/q1\n",
        "      else:\n",
        "        P2[user_id][movie_id]+=  P1[user_id][movie_id]\n",
        "print(P2)"
      ],
      "execution_count": 24,
      "outputs": [
        {
          "output_type": "stream",
          "text": [
            "[[0.         0.         0.         0.         5.11843066]\n",
            " [0.         0.         0.         3.37752525 0.        ]\n",
            " [0.         0.         0.         2.34823468 0.        ]\n",
            " [0.         0.55537792 0.         0.         0.        ]\n",
            " [0.         0.         4.30218855 0.         0.        ]\n",
            " [4.96604771 0.         0.         0.         0.        ]\n",
            " [0.         1.16377497 0.         0.         0.        ]\n",
            " [0.         3.64015152 0.         0.         0.        ]\n",
            " [4.24705387 0.         0.         0.         0.        ]\n",
            " [4.86694105 0.         0.         0.         0.        ]]\n"
          ],
          "name": "stdout"
        }
      ]
    },
    {
      "cell_type": "markdown",
      "metadata": {
        "id": "4nSXS-zS67ol"
      },
      "source": [
        "# Test"
      ]
    },
    {
      "cell_type": "code",
      "metadata": {
        "id": "MofUMfdjXpDL"
      },
      "source": [
        "def rmse(predictions, targets):\n",
        "  sse = 0\n",
        "  cnt = 0\n",
        "  for i in range(len(predictions)):\n",
        "    for j in range(len(predictions[0])):\n",
        "      if targets[i][j] != '':\n",
        "        sse += (predictions[i][j]-targets[i][j])**2\n",
        "        cnt+=1\n",
        "  return np.sqrt(sse/cnt)"
      ],
      "execution_count": 31,
      "outputs": []
    },
    {
      "cell_type": "code",
      "metadata": {
        "id": "1TnCJOsHX5-L"
      },
      "source": [
        "def acc(predictions, targets):\n",
        "  err = 0\n",
        "  sot = 0\n",
        "  cnt = 0\n",
        "  for i in range(len(predictions)):\n",
        "    for j in range(len(predictions[0])):\n",
        "      if targets[i][j] != '':\n",
        "        err += abs(predictions[i][j]-targets[i][j])/targets[i][j]\n",
        "        cnt+=1\n",
        "  return err*100/cnt"
      ],
      "execution_count": 26,
      "outputs": []
    },
    {
      "cell_type": "code",
      "metadata": {
        "id": "OSvwoFHb68kU"
      },
      "source": [
        "# RMSE와 accuracy 구하기\n",
        "baseline_rmse = rmse(P1,test_label_rating.values)\n",
        "baseline_acc = acc(P1,test_label_rating.values)\n",
        "\n",
        "nei_rmse = rmse(P2,test_label_rating.values)\n",
        "nei_acc = acc(P2,test_label_rating.values)"
      ],
      "execution_count": 32,
      "outputs": []
    },
    {
      "cell_type": "code",
      "metadata": {
        "colab": {
          "base_uri": "https://localhost:8080/"
        },
        "id": "xRZTxBVAYVe1",
        "outputId": "1dc9ab85-bde3-460c-8c8c-caf8aa6d6bf4"
      },
      "source": [
        "print(baseline_rmse)\n",
        "print(baseline_acc)\n",
        "print(nei_rmse)\n",
        "print(nei_acc)"
      ],
      "execution_count": 28,
      "outputs": [
        {
          "output_type": "stream",
          "text": [
            "0.6425132752294196\n",
            "20.356481481481463\n",
            "0.6356612009512063\n",
            "19.121806238243565\n"
          ],
          "name": "stdout"
        }
      ]
    },
    {
      "cell_type": "code",
      "metadata": {
        "colab": {
          "base_uri": "https://localhost:8080/"
        },
        "id": "oZCmuGCcCBmK",
        "outputId": "6b38ac89-57d7-40d3-dd9d-c1d8ce5a46e0"
      },
      "source": [
        "clipped_P2 = P2\n",
        "clipped_P2[3,1] = 1\n",
        "clipped_P2[0,4] = 5\n",
        "print(rmse(clipped_P2,test_label_rating.values))"
      ],
      "execution_count": 35,
      "outputs": [
        {
          "output_type": "stream",
          "text": [
            "0.5421893440091285\n"
          ],
          "name": "stdout"
        }
      ]
    }
  ]
}